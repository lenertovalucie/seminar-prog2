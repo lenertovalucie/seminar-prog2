{
 "cells": [
  {
   "cell_type": "markdown",
   "metadata": {},
   "source": [
    "### Funkční parametry \n",
    "\n",
    "Parametry vs argumenty\n",
    "\n",
    "1. Poziční argumenty\n",
    "2. Klíčové argumenty\n",
    "3. Defaultní parametry\n",
    "4. \\*args\n",
    "5. \\*\\*kwargs\n"
   ]
  },
  {
   "cell_type": "markdown",
   "metadata": {},
   "source": [
    "#### Poziční argumenty"
   ]
  },
  {
   "cell_type": "code",
   "execution_count": null,
   "metadata": {},
   "outputs": [],
   "source": [
    "def moje_funkce(par1, par2, par3):\n",
    "    print(f\"par1: {par1}\")\n",
    "    print(f\"par2: {par2}\")\n",
    "    print(f\"par3: {par3}\")\n",
    "    \n",
    "moje_funkce(1, 2, 3)"
   ]
  },
  {
   "cell_type": "markdown",
   "metadata": {},
   "source": [
    "\n",
    "#### Klíčové argumenty\n"
   ]
  },
  {
   "cell_type": "code",
   "execution_count": null,
   "metadata": {},
   "outputs": [],
   "source": [
    "def moje_funkce(par1, par2, par3):\n",
    "    print(f\"par1: {par1}\")\n",
    "    print(f\"par2: {par2}\")\n",
    "    print(f\"par3: {par3}\")\n",
    "    \n",
    "moje_funkce(par1=1, par2=2, par3=3)\n",
    "moje_funkce(par2=2, par1=1, par3=3)"
   ]
  },
  {
   "cell_type": "markdown",
   "metadata": {},
   "source": [
    "#### Defaultní parametry"
   ]
  },
  {
   "cell_type": "code",
   "execution_count": null,
   "metadata": {},
   "outputs": [],
   "source": [
    "def moje_funkce(par1, par2, par3=3):\n",
    "    print(f\"par1: {par1}\")\n",
    "    print(f\"par2: {par2}\")\n",
    "    print(f\"par3: {par3}\")\n",
    "    \n",
    "moje_funkce(par1=2,par2=3)"
   ]
  },
  {
   "cell_type": "markdown",
   "metadata": {},
   "source": [
    "#### \\*args"
   ]
  },
  {
   "cell_type": "code",
   "execution_count": null,
   "metadata": {},
   "outputs": [],
   "source": [
    "def tisk_jmena(*args):\n",
    "    for jmeno in args:\n",
    "        print(f\"jmeno: {jmeno}\")\n",
    "        \n",
    "tisk_jmena(\"Lukáš\")\n",
    "tisk_jmena(\"Lukáš\", \"Ivo\")"
   ]
  },
  {
   "cell_type": "markdown",
   "metadata": {},
   "source": [
    "#### \\*\\*kwargs\n"
   ]
  },
  {
   "cell_type": "code",
   "execution_count": null,
   "metadata": {},
   "outputs": [],
   "source": [
    "def tisk_jmena(**kwargs):\n",
    "    for klic, hodnota in kwargs.items():\n",
    "        print(f\"{klic=} --> {hodnota}\")\n",
    "        \n",
    "tisk_jmena(jmeno=\"Petr\")"
   ]
  },
  {
   "cell_type": "markdown",
   "metadata": {},
   "source": [
    "### Dokumentace funkcí"
   ]
  },
  {
   "cell_type": "code",
   "execution_count": null,
   "metadata": {},
   "outputs": [],
   "source": [
    "def specialni_funkce(cislo: int, mocnina: int) -> int:\n",
    "    \"\"\"\n",
    "    Popis:\n",
    "    ------\n",
    "    Tato funkce vezme parametr `cislo` a umocneni jej\n",
    "    o hodnotu v parametru `mocnina`.\n",
    "    \n",
    "    \"\"\"\n",
    "    return cislo ** mocnina"
   ]
  },
  {
   "cell_type": "markdown",
   "metadata": {},
   "source": [
    "### úkoly\n",
    "\n",
    "  1. vytvořte funkci, která vezme libovolný počet vstupů \n",
    "    - funkce vrátí True, pokud jsou všechny vstupy anagramy\n",
    "    - jinak vrátí False\n",
    "    - popište funkci pomocí dokumentace\n",
    "  2. vytvořte funkci, která spočítá největší společný dělitel dvou celých čísel \n",
    "    - funkce vrátí číslo (největší společný dělitel)\n",
    "    - popište funkci pomocí dokumentace\n",
    "\n",
    "Push na Github, označit v přehledu úkolu, že máte hotovo."
   ]
  },
  {
   "cell_type": "code",
   "execution_count": 16,
   "metadata": {},
   "outputs": [
    {
     "name": "stdout",
     "output_type": "stream",
     "text": [
      "True\n",
      "False\n"
     ]
    }
   ],
   "source": [
    "# Úkol 1\n",
    "\n",
    "def find_anagrams(*args):\n",
    "    \"\"\"\n",
    "    Popis:\n",
    "    ------\n",
    "    Tato funkce vezme všechny paramatry a zjistí, zdali jsou to vše anagramy.\n",
    "    První argument je rozdělen na list písmen, které se seřadí podle abecedy.\n",
    "    Všechny ostatní parametry jsou porovnávány s prvním vzorem a pokud se shodují, funkce vrátí True, jinak False.\n",
    "    \"\"\"\n",
    "    letters_base = []\n",
    "    count = 0\n",
    "    for position, word in enumerate(args):\n",
    "        if position == 0:\n",
    "            letters_base = sorted([*word])\n",
    "        if letters_base != sorted([*word]):\n",
    "            return False\n",
    "    return True\n",
    "\n",
    "print(find_anagrams(\"split\", \"lipts\", \"pilts\"))\n",
    "print(find_anagrams(\"none\", \"one\", \"noe\"))"
   ]
  },
  {
   "cell_type": "code",
   "execution_count": 27,
   "metadata": {},
   "outputs": [
    {
     "name": "stdout",
     "output_type": "stream",
     "text": [
      "1\n",
      "5\n"
     ]
    }
   ],
   "source": [
    "# Úkol 2\n",
    "\n",
    "def gc_divisor(num1, num2):\n",
    "    \"\"\"\n",
    "    Popis:\n",
    "    ------\n",
    "    Tato funkce najde největšího společného dělitele pomocí Euklidova algoritmu.\n",
    "    Vstupem algoritmu jsou dvě přirozená čísla A a B. Algoritmus v každém svém kroku vydělí se zbytkem číslo A číslem B.\n",
    "    Pokud zbytek není nulový, tak do A přiřadí číslo B a zbytek po dělení přiřadí do uvolněné proměnné B a celý postup opakuje.\n",
    "    V okamžiku, kdy je zbytek po dělení nulový, je v proměnné B uložen největší společný dělitel čísel A a B.\n",
    "    (zdroj: https://www.algoritmy.net/article/22879/Nejvetsi-spolecny-delitel)\n",
    "    \"\"\"\n",
    "    if num1 >= num2:\n",
    "        big = num1\n",
    "        small = num2\n",
    "    else:\n",
    "        big = num2\n",
    "        small = num1\n",
    "    remainder = big % small\n",
    "    while remainder != 0:\n",
    "        big = small\n",
    "        small = remainder\n",
    "        remainder = big % small\n",
    "    return small\n",
    "\n",
    "print(gc_divisor(133,15))\n",
    "print(gc_divisor(15,140))"
   ]
  }
 ],
 "metadata": {
  "kernelspec": {
   "display_name": "Python 3.10.7 64-bit",
   "language": "python",
   "name": "python3"
  },
  "language_info": {
   "codemirror_mode": {
    "name": "ipython",
    "version": 3
   },
   "file_extension": ".py",
   "mimetype": "text/x-python",
   "name": "python",
   "nbconvert_exporter": "python",
   "pygments_lexer": "ipython3",
   "version": "3.10.7"
  },
  "vscode": {
   "interpreter": {
    "hash": "2cdffdcf357c0a39777c5c52db545dc296e5caa518da80ed885f96786ccb50d4"
   }
  }
 },
 "nbformat": 4,
 "nbformat_minor": 4
}
