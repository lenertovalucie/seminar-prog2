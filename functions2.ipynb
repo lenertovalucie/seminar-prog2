{
 "cells": [
  {
   "cell_type": "markdown",
   "metadata": {},
   "source": [
    "### Funkční parametry \n",
    "\n",
    "Parametry vs argumenty\n",
    "\n",
    "1. Poziční argumenty\n",
    "2. Klíčové argumenty\n",
    "3. Defaultní parametry\n",
    "4. \\*args\n",
    "5. \\*\\*kwargs\n"
   ]
  },
  {
   "cell_type": "markdown",
   "metadata": {},
   "source": [
    "#### Poziční argumenty"
   ]
  },
  {
   "cell_type": "code",
   "execution_count": null,
   "metadata": {},
   "outputs": [],
   "source": [
    "def moje_funkce(par1, par2, par3):\n",
    "    print(f\"par1: {par1}\")\n",
    "    print(f\"par2: {par2}\")\n",
    "    print(f\"par3: {par3}\")\n",
    "    \n",
    "moje_funkce(1, 2, 3)"
   ]
  },
  {
   "cell_type": "markdown",
   "metadata": {},
   "source": [
    "\n",
    "#### Klíčové argumenty\n"
   ]
  },
  {
   "cell_type": "code",
   "execution_count": null,
   "metadata": {},
   "outputs": [],
   "source": [
    "def moje_funkce(par1, par2, par3):\n",
    "    print(f\"par1: {par1}\")\n",
    "    print(f\"par2: {par2}\")\n",
    "    print(f\"par3: {par3}\")\n",
    "    \n",
    "moje_funkce(par1=1, par2=2, par3=3)\n",
    "moje_funkce(par2=2, par1=1, par3=3)"
   ]
  },
  {
   "cell_type": "markdown",
   "metadata": {},
   "source": [
    "#### Defaultní parametry"
   ]
  },
  {
   "cell_type": "code",
   "execution_count": null,
   "metadata": {},
   "outputs": [],
   "source": [
    "def moje_funkce(par1, par2, par3=3):\n",
    "    print(f\"par1: {par1}\")\n",
    "    print(f\"par2: {par2}\")\n",
    "    print(f\"par3: {par3}\")\n",
    "    \n",
    "moje_funkce(par1=2,par2=3)"
   ]
  },
  {
   "cell_type": "markdown",
   "metadata": {},
   "source": [
    "#### \\*args"
   ]
  },
  {
   "cell_type": "code",
   "execution_count": null,
   "metadata": {},
   "outputs": [],
   "source": [
    "def tisk_jmena(*args):\n",
    "    for jmeno in args:\n",
    "        print(f\"jmeno: {jmeno}\")\n",
    "        \n",
    "tisk_jmena(\"Lukáš\")\n",
    "tisk_jmena(\"Lukáš\", \"Ivo\")"
   ]
  },
  {
   "cell_type": "markdown",
   "metadata": {},
   "source": [
    "#### \\*\\*kwargs\n"
   ]
  },
  {
   "cell_type": "code",
   "execution_count": null,
   "metadata": {},
   "outputs": [],
   "source": [
    "def tisk_jmena(**kwargs):\n",
    "    for klic, hodnota in kwargs.items():\n",
    "        print(f\"{klic=} --> {hodnota}\")\n",
    "        \n",
    "tisk_jmena(jmeno=\"Petr\")"
   ]
  },
  {
   "cell_type": "markdown",
   "metadata": {},
   "source": [
    "### Dokumentace funkcí"
   ]
  },
  {
   "cell_type": "code",
   "execution_count": null,
   "metadata": {},
   "outputs": [],
   "source": [
    "def specialni_funkce(cislo: int, mocnina: int) -> int:\n",
    "    \"\"\"\n",
    "    Popis:\n",
    "    ------\n",
    "    Tato funkce vezme parametr `cislo` a umocneni jej\n",
    "    o hodnotu v parametru `mocnina`.\n",
    "    \n",
    "    \"\"\"\n",
    "    return cislo ** mocnina"
   ]
  },
  {
   "cell_type": "markdown",
   "metadata": {},
   "source": [
    "### úkoly\n",
    "\n",
    "  1. vytvořte funkci, která vezme libovolný počet vstupů \n",
    "    - funkce vrátí True, pokud jsou všechny vstupy anagramy\n",
    "    - jinak vrátí False\n",
    "    - popište funkci pomocí dokumentace\n",
    "  2. vytvořte funkci, která spočítá největší společný dělitel dvou celých čísel \n",
    "    - funkce vrátí číslo (největší společný dělitel)\n",
    "    - popište funkci pomocí dokumentace\n",
    "\n",
    "Push na Github, označit v přehledu úkolu, že máte hotovo."
   ]
  },
  {
   "cell_type": "code",
   "execution_count": 2,
   "metadata": {},
   "outputs": [
    {
     "name": "stdout",
     "output_type": "stream",
     "text": [
      "True\n",
      "False\n"
     ]
    }
   ],
   "source": [
    "# 1\n",
    "\n",
    "def anagram(*args) -> bool:\n",
    "    testing_array = []\n",
    "    for i in args:\n",
    "        if testing_array == []:\n",
    "            testing_array = sorted(i.lower())\n",
    "        else:\n",
    "            if testing_array != sorted(i.lower()):\n",
    "                return False\n",
    "    return True\n",
    "\n",
    "print(anagram('AHOJ', 'HOJA'))\n",
    "print(anagram('BEES', 'ANTS'))"
   ]
  },
  {
   "cell_type": "code",
   "execution_count": 6,
   "metadata": {},
   "outputs": [
    {
     "name": "stdout",
     "output_type": "stream",
     "text": [
      "6\n"
     ]
    }
   ],
   "source": [
    "# 2\n",
    "\n",
    "def greatest_common_divider(num1: int, num2: int) -> int:\n",
    "    a, b = num1, num2\n",
    "\n",
    "    while b:\n",
    "        a, b = b, a%b\n",
    "    return a\n",
    "\n",
    "print(greatest_common_divider(18, 726))"
   ]
  }
 ],
 "metadata": {
  "kernelspec": {
   "display_name": "Python 3.10.6 64-bit",
   "language": "python",
   "name": "python3"
  },
  "language_info": {
   "codemirror_mode": {
    "name": "ipython",
    "version": 3
   },
   "file_extension": ".py",
   "mimetype": "text/x-python",
   "name": "python",
   "nbconvert_exporter": "python",
   "pygments_lexer": "ipython3",
   "version": "3.10.6"
  },
  "vscode": {
   "interpreter": {
    "hash": "916dbcbb3f70747c44a77c7bcd40155683ae19c65e1c03b4aa3499c5328201f1"
   }
  }
 },
 "nbformat": 4,
 "nbformat_minor": 4
}
