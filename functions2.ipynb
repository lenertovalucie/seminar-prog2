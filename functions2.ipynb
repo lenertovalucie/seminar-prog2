{
 "cells": [
  {
   "cell_type": "markdown",
   "metadata": {},
   "source": [
    "### Funkční parametry \n",
    "\n",
    "Parametry vs argumenty\n",
    "\n",
    "1. Poziční argumenty\n",
    "2. Klíčové argumenty\n",
    "3. Defaultní parametry\n",
    "4. \\*args\n",
    "5. \\*\\*kwargs\n"
   ]
  },
  {
   "cell_type": "markdown",
   "metadata": {},
   "source": [
    "#### Poziční argumenty"
   ]
  },
  {
   "cell_type": "code",
   "execution_count": null,
   "metadata": {},
   "outputs": [],
   "source": [
    "def moje_funkce(par1, par2, par3):\n",
    "    print(f\"par1: {par1}\")\n",
    "    print(f\"par2: {par2}\")\n",
    "    print(f\"par3: {par3}\")\n",
    "    \n",
    "moje_funkce(1, 2, 3)"
   ]
  },
  {
   "cell_type": "markdown",
   "metadata": {},
   "source": [
    "\n",
    "#### Klíčové argumenty\n"
   ]
  },
  {
   "cell_type": "code",
   "execution_count": null,
   "metadata": {},
   "outputs": [],
   "source": [
    "def moje_funkce(par1, par2, par3):\n",
    "    print(f\"par1: {par1}\")\n",
    "    print(f\"par2: {par2}\")\n",
    "    print(f\"par3: {par3}\")\n",
    "    \n",
    "moje_funkce(par1=1, par2=2, par3=3)\n",
    "moje_funkce(par2=2, par1=1, par3=3)"
   ]
  },
  {
   "cell_type": "markdown",
   "metadata": {},
   "source": [
    "#### Defaultní parametry"
   ]
  },
  {
   "cell_type": "code",
   "execution_count": null,
   "metadata": {},
   "outputs": [],
   "source": [
    "def moje_funkce(par1, par2, par3=3):\n",
    "    print(f\"par1: {par1}\")\n",
    "    print(f\"par2: {par2}\")\n",
    "    print(f\"par3: {par3}\")\n",
    "    \n",
    "moje_funkce(par1=2,par2=3)"
   ]
  },
  {
   "cell_type": "markdown",
   "metadata": {},
   "source": [
    "#### \\*args"
   ]
  },
  {
   "cell_type": "code",
   "execution_count": null,
   "metadata": {},
   "outputs": [],
   "source": [
    "def tisk_jmena(*args):\n",
    "    for jmeno in args:\n",
    "        print(f\"jmeno: {jmeno}\")\n",
    "        \n",
    "tisk_jmena(\"Lukáš\")\n",
    "tisk_jmena(\"Lukáš\", \"Ivo\")"
   ]
  },
  {
   "cell_type": "markdown",
   "metadata": {},
   "source": [
    "#### \\*\\*kwargs\n"
   ]
  },
  {
   "cell_type": "code",
   "execution_count": null,
   "metadata": {},
   "outputs": [],
   "source": [
    "def tisk_jmena(**kwargs):\n",
    "    for klic, hodnota in kwargs.items():\n",
    "        print(f\"{klic=} --> {hodnota}\")\n",
    "        \n",
    "tisk_jmena(jmeno=\"Petr\")"
   ]
  },
  {
   "cell_type": "markdown",
   "metadata": {},
   "source": [
    "### Dokumentace funkcí"
   ]
  },
  {
   "cell_type": "code",
   "execution_count": null,
   "metadata": {},
   "outputs": [],
   "source": [
    "def specialni_funkce(cislo: int, mocnina: int) -> int:\n",
    "    \"\"\"\n",
    "    Popis:\n",
    "    ------\n",
    "    Tato funkce vezme parametr `cislo` a umocneni jej\n",
    "    o hodnotu v parametru `mocnina`.\n",
    "    \n",
    "    \"\"\"\n",
    "    return cislo ** mocnina"
   ]
  },
  {
   "cell_type": "markdown",
   "metadata": {},
   "source": [
    "### úkoly\n",
    "\n",
    "  1. vytvořte funkci, která vezme libovolný počet vstupů \n",
    "    - funkce vrátí True, pokud jsou všechny vstupy anagramy\n",
    "    - jinak vrátí False\n",
    "    - popište funkci pomocí dokumentace\n",
    "  2. vytvořte funkci, která spočítá největší společný dělitel dvou celých čísel \n",
    "    - funkce vrátí číslo (největší společný dělitel)\n",
    "    - popište funkci pomocí dokumentace\n",
    "\n",
    "Push na Github, označit v přehledu úkolu, že máte hotovo."
   ]
  },
  {
   "cell_type": "code",
   "execution_count": null,
   "metadata": {},
   "outputs": [],
   "source": [
    "def anagram(*words):\n",
    "  word_dictionary={}\n",
    "  timer=0\n",
    "  for word in words:\n",
    "    timer=timer+1\n",
    "    word_dictionary[\"string{0}\".format(timer)] = word\n",
    "  list1 = [letter for letter in word_dictionary[\"string{0}\".format(1)] if letter.strip()]\n",
    "  list1.sort()\n",
    "  anagram = 1\n",
    "  for n in range(timer-1):\n",
    "    list2=[]\n",
    "    list2 = [letter for letter in word_dictionary[\"string{0}\".format(timer)] if letter.strip()]\n",
    "    list2.sort()\n",
    "    timer=timer-1\n",
    "    if len(list1)==len(list2):\n",
    "      for m in range(len(list1)):\n",
    "        if list1[m]!=list2[m]:\n",
    "          anagram = 0\n",
    "    else:\n",
    "      anagram = 0\n",
    "    print(words)\n",
    "    if anagram == 1:\n",
    "      return(\"Those words are anagrams\")\n",
    "    else:\n",
    "      return(\"Those words are not anagrams\")\n",
    "\n",
    "print(anagram(\"ahoj\", \"hoja\", \"ooah\"))\n",
    "print(anagram(\"listen\", \"silent\", \"litsne\", \"entils\", \"netsil\"))\n",
    "print(anagram(\"aaa\", \"aa\"))\n",
    "\n",
    "\"\"\"\n",
    "Funkce si popořadě uloží všechna zadaná slova do slovníku word_dictionary, přičemž každému slovu přiřadí vlastní klíč ve formátu string{pořadové číslo}. Funkce se v pořadí slov orientuje pomocí proměnné timer.\n",
    "První slovo v pořadí rozloží na písmena, které přidá do listu1 a seřadí podle abecedy.\n",
    "Následuje loop, který rozkládá další zadaná slova na písmena, která také seřadí podle abecedy a následně porovná, jestli se písmeno v listu1 na daném indexu shoduje s listem2. Toto se zopakuje pro každé zbylé slovo. \n",
    "Funkce také zkontroluje, jestli jsou vytvořené seznamy stejně dlouhé. Pokud by nebyly, slova nemohou být anagramy. \n",
    "Pokud funkce najde rozpor písmeny nebo délkou slov, uloží proměnné anagram (která má na začátku funkce hodnotu 1) hodnotu 0.\n",
    "Pokud je proměnná anagram rovna 1, funkce vrátí zprávu, že všechny vstupy jsou anagramy. V opačném případě vrátí zprávu, že vstupy anagramy nejsou. \n",
    "\"\"\"\n",
    "\n",
    "\n",
    "\n",
    "from math import gcd\n",
    "\n",
    "def greatest_common_divisor(number1, number2):\n",
    "  return(gcd(number1, number2))\n",
    "\n",
    "print(greatest_common_divisor(25,20))\n",
    "print(greatest_common_divisor(27,15))\n",
    "print(greatest_common_divisor(3683,85962))\n",
    "  \n",
    "\"\"\"\n",
    "Funkce naimportuje z modulu math pouze funkci gcd (Největší společný dělitel), kterou použije ke zjištění požadovaného čísla.  \n",
    "\"\"\"\n",
    "\n"
   ]
  }
 ],
 "metadata": {
  "kernelspec": {
   "display_name": "Python 3.10.8 64-bit",
   "language": "python",
   "name": "python3"
  },
  "language_info": {
   "codemirror_mode": {
    "name": "ipython",
    "version": 3
   },
   "file_extension": ".py",
   "mimetype": "text/x-python",
   "name": "python",
   "nbconvert_exporter": "python",
   "pygments_lexer": "ipython3",
   "version": "3.10.8"
  },
  "vscode": {
   "interpreter": {
    "hash": "804dc0082a323713bf255c9965ee9082359debbc94371e447f1b6c3ce1883ee6"
   }
  }
 },
 "nbformat": 4,
 "nbformat_minor": 4
}
