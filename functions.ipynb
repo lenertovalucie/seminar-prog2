{
 "cells": [
  {
   "cell_type": "markdown",
   "metadata": {},
   "source": [
    "### [Funkční parametry (~funtions parameters)](00_introduction_p8.ipynb#Obsah-lekce)\n",
    "---\n",
    "* [Přetěžování funkcí v Pythonů, je to možné? (EN)](https://stackoverflow.com/questions/6434482/python-function-overloading#29091980)\n",
    "* [Další pomocný článek ukazující rozdíly (pokročilý + EN)](https://techvidvan.com/tutorials/python-methods-vs-functions/)\n",
    "\n",
    "<br>\n",
    "\n",
    "---\n",
    "\n",
    "<br>\n",
    "\n",
    "O funkčních **parametrech** a **argumentech** jsme se již v krátkosti zmínili. Pojďme to opět dotáhnout blíže k dokonalosti.\n",
    "\n",
    "<br>\n",
    "\n",
    "**Parametr** je v podstatě proměnná, která může obsahovat různé hodnoty. Používáme jej právě kvůli tomu, abychom ve funkci nachystali nějaké *místodržícího*, který bude očekávat při spuštění hodnotu.\n",
    "\n",
    "<br>\n",
    "\n",
    "**Argument** je ve své podstatě hodnota, na kterou parametr čeká. Skutečné hodnota, kterou ve funkci použijeme.\n",
    "\n",
    "<br>\n",
    "\n",
    "Kolik parametrů, jaké typy, jak je zapsat? To jsou otázky, kterým se nyní chceme věnovat.\n",
    "\n",
    "1. Poziční argumenty\n",
    "2. Klíčové argumenty\n",
    "3. Defaultní parametry\n",
    "4. 🆕 Position-only parametry\n",
    "5. 😱 \\*args\n",
    "6. 🤖 \\*\\*kwargs\n",
    "\n",
    "<br>\n",
    "\n",
    "---\n",
    "\n",
    "<br>"
   ]
  },
  {
   "cell_type": "markdown",
   "metadata": {},
   "source": [
    "#### Poziční argumenty (~poziční parametry)\n",
    "\n",
    "<br>\n",
    "\n",
    "Pokud spouštíme funkci, argumenty jsou přiřazovány ke svým parametrům **pomocí pořadí**, ve kterém je zapíšeme (můžeme si pomoci indexem).\n",
    "\n",
    "<br>\n",
    "\n",
    "Je to **nejčastější** a **nejjasnější** forma zápisu, která se používá:"
   ]
  },
  {
   "cell_type": "code",
   "execution_count": null,
   "metadata": {
    "scrolled": true
   },
   "outputs": [],
   "source": [
    "def moje_funkce(par1, par2, par3):\n",
    "    print(f\"To je {par1}!\")\n",
    "    print(f\"To je {par2}!\")\n",
    "    print(f\"To je {par3}!\")"
   ]
  },
  {
   "cell_type": "code",
   "execution_count": null,
   "metadata": {},
   "outputs": [],
   "source": [
    "moje_funkce(\"Matous\", \"Lukas\", \"Honzik\")"
   ]
  },
  {
   "cell_type": "code",
   "execution_count": null,
   "metadata": {},
   "outputs": [],
   "source": [
    "moje_funkce(\"Lukas\", \"Matous\", \"Honzik\")"
   ]
  },
  {
   "cell_type": "markdown",
   "metadata": {},
   "source": [
    "---\n",
    "\n",
    "<br>\n",
    "\n",
    "#### Klíčkové argumenty\n",
    "\n",
    "<br>\n",
    "\n",
    "Pokud spouštíme funkci, argumenty jsou přiřazované pomocí **jména parametru** (podobně jako `dict` `klíč` = `hodnota`).\n",
    "\n",
    "<br>\n",
    "\n",
    "Tento způsob **není tak častý** (horší čitelnost):"
   ]
  },
  {
   "cell_type": "code",
   "execution_count": null,
   "metadata": {
    "scrolled": true
   },
   "outputs": [],
   "source": [
    "def moje_funkce(par1, par2, par3):\n",
    "    print(f\"To je {par1}!\")\n",
    "    print(f\"To je {par2}!\")\n",
    "    print(f\"To je {par3}!\")"
   ]
  },
  {
   "cell_type": "code",
   "execution_count": null,
   "metadata": {},
   "outputs": [],
   "source": [
    "moje_funkce(par1=\"Matous\", par2=\"Lukas\", par3=\"Honzik\")"
   ]
  },
  {
   "cell_type": "code",
   "execution_count": null,
   "metadata": {},
   "outputs": [],
   "source": [
    "moje_funkce(par2=\"Matous\", par1=\"Lukas\", par3=\"Honzik\")"
   ]
  },
  {
   "cell_type": "markdown",
   "metadata": {},
   "source": [
    "---\n",
    "\n",
    "<br>\n",
    "\n",
    "#### Defaultní parametry\n",
    "\n",
    "<br>\n",
    "\n",
    "Pokud definujeme funkci, můžeme přímo k parametrům přiřadit příslušné hodnoty.\n",
    "\n",
    "<br>\n",
    "\n",
    "Pokud funkci nespustíme pomocí argumentů, jsou automaticky použité ty, které jsme předdefinovali.\n",
    "\n",
    "<br>\n",
    "\n",
    "Pokud funkci spustím s argumenty, dojde k přepsání původních hodnot."
   ]
  },
  {
   "cell_type": "code",
   "execution_count": null,
   "metadata": {},
   "outputs": [],
   "source": [
    "def moje_funkce(par1, par2=\"Lukas\", par3=\"Matous\"):\n",
    "    print(f\"To je {par1}!\")\n",
    "    print(f\"To je {par2}!\")\n",
    "    print(f\"To je {par3}!\")"
   ]
  },
  {
   "cell_type": "code",
   "execution_count": null,
   "metadata": {},
   "outputs": [],
   "source": [
    "moje_funkce()"
   ]
  },
  {
   "cell_type": "code",
   "execution_count": null,
   "metadata": {},
   "outputs": [],
   "source": [
    "moje_funkce(\"Lukas\", \"Matous\", \"Honzik\")"
   ]
  },
  {
   "cell_type": "code",
   "execution_count": null,
   "metadata": {},
   "outputs": [],
   "source": [
    "moje_funkce(\"Lukas\", \"Matous\")"
   ]
  },
  {
   "cell_type": "markdown",
   "metadata": {},
   "source": [
    "---\n",
    "\n",
    "<br>\n",
    "\n",
    "#### Position-only parameters\n",
    "Novější varianta zápisu, kdy lomítkem oddělíme skupinu **pozičních** a **klíčových** parametrů při definici funkce: "
   ]
  },
  {
   "cell_type": "code",
   "execution_count": null,
   "metadata": {},
   "outputs": [],
   "source": [
    "def moje_funkce(par1, par2, /, par3):\n",
    "    print(f\"To je {par1}!\")\n",
    "    print(f\"To je {par2}!\")\n",
    "    print(f\"To je {par3}!\")"
   ]
  },
  {
   "cell_type": "code",
   "execution_count": null,
   "metadata": {},
   "outputs": [],
   "source": [
    "moje_funkce(\"Matous\", \"Lukas\", \"Honzik\")"
   ]
  },
  {
   "cell_type": "code",
   "execution_count": null,
   "metadata": {},
   "outputs": [],
   "source": [
    "moje_funkce(par1=\"Matous\", par2=\"Lukas\", par3=\"Honzik\")"
   ]
  },
  {
   "cell_type": "code",
   "execution_count": null,
   "metadata": {},
   "outputs": [],
   "source": [
    "x, y = [122, 100]"
   ]
  },
  {
   "cell_type": "code",
   "execution_count": null,
   "metadata": {},
   "outputs": [],
   "source": [
    "moje_funkce(x, y, par3=\"m/s\")"
   ]
  },
  {
   "cell_type": "markdown",
   "metadata": {},
   "source": [
    "---\n",
    "\n",
    "<br>\n",
    "\n",
    "#### \\*args\n",
    "\n",
    "<br>\n",
    "\n",
    "Specialní varianta zápisu parametru (potažmo argumentů) funkce, kde pracuji s **různou délkou** datové struktury.\n",
    "\n",
    "<br>\n",
    "\n",
    "Vkládané hodnoty argumentů jsou v podstatě `list`(`tuple`):"
   ]
  },
  {
   "cell_type": "code",
   "execution_count": null,
   "metadata": {},
   "outputs": [],
   "source": [
    "print('ahoj', 'vsichni', '!!!')"
   ]
  },
  {
   "cell_type": "code",
   "execution_count": null,
   "metadata": {},
   "outputs": [],
   "source": [
    "def moje_funkce(*jmena):\n",
    "    for jmeno in jmena:\n",
    "        print(f\"To je {jmeno}!\")"
   ]
  },
  {
   "cell_type": "code",
   "execution_count": null,
   "metadata": {},
   "outputs": [],
   "source": [
    "moje_funkce(\"Matous\")"
   ]
  },
  {
   "cell_type": "code",
   "execution_count": null,
   "metadata": {},
   "outputs": [],
   "source": [
    "moje_funkce(\"Matous\", \"Honzik\")"
   ]
  },
  {
   "cell_type": "code",
   "execution_count": null,
   "metadata": {},
   "outputs": [],
   "source": [
    "moje_funkce(\"Matous\", \"Lukas\", \"Honzik\", \"Harold\")"
   ]
  },
  {
   "cell_type": "markdown",
   "metadata": {},
   "source": [
    "---\n",
    "\n",
    "<br>\n",
    "\n",
    "#### \\*\\*kwargs\n",
    "Další speciální případ pro zápis parametrů a argumentů.\n",
    "\n",
    "<br>\n",
    "\n",
    "Tentokrát vkládáme hodnoty argumentů jako páry **klíč** & **hodnota** ze slovníku:"
   ]
  },
  {
   "cell_type": "code",
   "execution_count": 4,
   "metadata": {},
   "outputs": [],
   "source": [
    "def moje_funkce(**kwargs):\n",
    "    for klic, hodnota in kwargs.items():\n",
    "        print(f\"{klic=} -> {hodnota=}\")"
   ]
  },
  {
   "cell_type": "code",
   "execution_count": 5,
   "metadata": {},
   "outputs": [
    {
     "name": "stdout",
     "output_type": "stream",
     "text": [
      "klic='cislo' -> hodnota=11\n"
     ]
    }
   ],
   "source": [
    "moje_funkce(cislo=11)"
   ]
  },
  {
   "cell_type": "code",
   "execution_count": 6,
   "metadata": {},
   "outputs": [
    {
     "name": "stdout",
     "output_type": "stream",
     "text": [
      "klic='cislo' -> hodnota=11\n",
      "klic='jmeno' -> hodnota='Matous'\n"
     ]
    }
   ],
   "source": [
    "moje_funkce(cislo=11, jmeno=\"Matous\")"
   ]
  },
  {
   "cell_type": "code",
   "execution_count": null,
   "metadata": {},
   "outputs": [],
   "source": [
    "moje_funkce(cislo=11, jmeno=\"Matous\", datum=\"11.11.2011\")"
   ]
  },
  {
   "cell_type": "markdown",
   "metadata": {},
   "source": [
    "---\n",
    "\n",
    "#### Kombinace zápisu parametrů (argumentů)\n",
    "Jednotlivé varianty můžeme kombinovat při práci s funkcemi. Zásadní je dodržet správné pořádí parametrů:"
   ]
  },
  {
   "cell_type": "code",
   "execution_count": 2,
   "metadata": {},
   "outputs": [],
   "source": [
    "def moje_funkce(par1, *args, **kwargs):\n",
    "    \"\"\"blbost\n",
    "    \"\"\"\n",
    "    if kwargs.get(\"prepinac\") == True:\n",
    "        for jmeno in args:\n",
    "            print(f\"{jmeno}!\")\n",
    "    else:\n",
    "        print(f\"{par1}!\")"
   ]
  },
  {
   "cell_type": "code",
   "execution_count": 3,
   "metadata": {},
   "outputs": [
    {
     "name": "stdout",
     "output_type": "stream",
     "text": [
      "Matous!\n",
      "Honzik!\n",
      "Luki!\n",
      "Harold!\n"
     ]
    }
   ],
   "source": [
    "moje_funkce(\"Tot vse\", \"Matous\", \"Honzik\", \"Luki\", \"Harold\", prepinac=True)"
   ]
  },
  {
   "cell_type": "code",
   "execution_count": null,
   "metadata": {},
   "outputs": [],
   "source": [
    "moje_funkce(\"Tot vse\", \"Matous\", \"Honzik\", \"Luki\", \"Harold\", prepinac=False)"
   ]
  }
 ],
 "metadata": {
  "kernelspec": {
   "display_name": "Python 3.10.7 64-bit",
   "language": "python",
   "name": "python3"
  },
  "language_info": {
   "codemirror_mode": {
    "name": "ipython",
    "version": 3
   },
   "file_extension": ".py",
   "mimetype": "text/x-python",
   "name": "python",
   "nbconvert_exporter": "python",
   "pygments_lexer": "ipython3",
   "version": "3.10.7"
  },
  "vscode": {
   "interpreter": {
    "hash": "65334091fd8d48f9bbf3d4845ec756849443f02a18b1f99eb708fa7768c42a68"
   }
  }
 },
 "nbformat": 4,
 "nbformat_minor": 4
}
