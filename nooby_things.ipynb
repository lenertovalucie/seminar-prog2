{
 "cells": [
  {
   "cell_type": "code",
   "execution_count": 4,
   "metadata": {},
   "outputs": [
    {
     "name": "stdout",
     "output_type": "stream",
     "text": [
      "I have 5 apples.\n"
     ]
    }
   ],
   "source": [
    "# 1. \n",
    "count = 5\n",
    "fruit = \"apples\"\n",
    "\n",
    "print(\"I have \" + str(count) + \" \" + fruit + \".\")"
   ]
  },
  {
   "cell_type": "code",
   "execution_count": null,
   "metadata": {},
   "outputs": [],
   "source": [
    "# 1. Zde navrhněte vaše vylepšení\n"
   ]
  },
  {
   "cell_type": "markdown",
   "metadata": {},
   "source": [
    "Jaké doporučení zde bylo podle vás porušeno v příkladu ? Klidně napište více:"
   ]
  },
  {
   "cell_type": "code",
   "execution_count": 1,
   "metadata": {},
   "outputs": [
    {
     "name": "stdout",
     "output_type": "stream",
     "text": [
      "0\n",
      "1\n",
      "2\n"
     ]
    }
   ],
   "source": [
    "# 2. \n",
    "numbers = [\"one\", \"two\", \"three\"]\n",
    "\n",
    "for value in range(len(numbers)):\n",
    "    print(value)"
   ]
  },
  {
   "cell_type": "code",
   "execution_count": null,
   "metadata": {},
   "outputs": [],
   "source": [
    "# 2. "
   ]
  },
  {
   "cell_type": "markdown",
   "metadata": {},
   "source": [
    "Jaké doporučení zde bylo podle vás porušeno v příkladu ? Klidně napište více:\n"
   ]
  },
  {
   "cell_type": "code",
   "execution_count": null,
   "metadata": {},
   "outputs": [],
   "source": [
    "# 3. \n",
    "numbers = [\"one\", \"two\", \"three\"]\n",
    "\n",
    "for value in range(len(numbers)):\n",
    "    print(f\"{value} {numbers[value]}\")"
   ]
  },
  {
   "cell_type": "code",
   "execution_count": null,
   "metadata": {},
   "outputs": [],
   "source": [
    "# 3. Zde navrhněte vaše vylepšení, nápověda: vygooglete enumerate funkci"
   ]
  },
  {
   "cell_type": "markdown",
   "metadata": {},
   "source": [
    "Jaké doporučení zde bylo podle vás porušeno v příkladu ? Klidně napište více:"
   ]
  },
  {
   "cell_type": "code",
   "execution_count": null,
   "metadata": {},
   "outputs": [],
   "source": [
    "# 4. \n",
    "words = {\"name\": \"jméno\", \"fruit\": \"ovoce\"}\n",
    "\n",
    "print(words[\"name\"])"
   ]
  },
  {
   "cell_type": "code",
   "execution_count": null,
   "metadata": {},
   "outputs": [],
   "source": [
    "# 4. Zde navrhněte vaše vylepšení, nápověda: vygooglete si metodu, která získa hodnotu ze slovníku"
   ]
  },
  {
   "cell_type": "markdown",
   "metadata": {},
   "source": [
    "Jaké doporučení zde bylo podle vás porušeno v příkladu ? Klidně napište více:"
   ]
  },
  {
   "cell_type": "code",
   "execution_count": 2,
   "metadata": {},
   "outputs": [
    {
     "ename": "TypeError",
     "evalue": "must be real number, not str",
     "output_type": "error",
     "traceback": [
      "\u001b[1;31m---------------------------------------------------------------------------\u001b[0m",
      "\u001b[1;31mTypeError\u001b[0m                                 Traceback (most recent call last)",
      "Cell \u001b[1;32mIn [2], line 6\u001b[0m\n\u001b[0;32m      2\u001b[0m     word\u001b[39m.\u001b[39mupper()\n\u001b[0;32m      4\u001b[0m \u001b[39mfrom\u001b[39;00m \u001b[39mmath\u001b[39;00m \u001b[39mimport\u001b[39;00m \u001b[39m*\u001b[39m\n\u001b[1;32m----> 6\u001b[0m sqrt(\u001b[39m\"\u001b[39;49m\u001b[39mtest\u001b[39;49m\u001b[39m\"\u001b[39;49m)\n",
      "\u001b[1;31mTypeError\u001b[0m: must be real number, not str"
     ]
    }
   ],
   "source": [
    "# 5.\n",
    "def sqrt(word):\n",
    "    word.upper()\n",
    "    \n",
    "from math import *\n",
    "    \n",
    "sqrt(\"test\")"
   ]
  },
  {
   "cell_type": "code",
   "execution_count": null,
   "metadata": {},
   "outputs": [],
   "source": [
    "# 5. Zde navrhněte vaše vylepšení, nápověda: proč program vrátí chybu"
   ]
  },
  {
   "cell_type": "markdown",
   "metadata": {},
   "source": [
    "Jaké doporučení zde bylo podle vás porušeno v příkladu ? Klidně napište více:"
   ]
  }
 ],
 "metadata": {
  "kernelspec": {
   "display_name": "Python 3.10.8 64-bit",
   "language": "python",
   "name": "python3"
  },
  "language_info": {
   "codemirror_mode": {
    "name": "ipython",
    "version": 3
   },
   "file_extension": ".py",
   "mimetype": "text/x-python",
   "name": "python",
   "nbconvert_exporter": "python",
   "pygments_lexer": "ipython3",
   "version": "3.10.8"
  },
  "orig_nbformat": 4,
  "vscode": {
   "interpreter": {
    "hash": "6ef888e41b2dcc37ae80de0301c51e998172b445c6e5b7c6cf8fc3e0b77a5d1f"
   }
  }
 },
 "nbformat": 4,
 "nbformat_minor": 2
}
