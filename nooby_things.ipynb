{
 "cells": [
  {
   "cell_type": "markdown",
   "metadata": {},
   "source": [
    "https://peps.python.org/pep-0020/\n",
    "https://peps.python.org/pep-0008/"
   ]
  },
  {
   "cell_type": "code",
   "execution_count": null,
   "metadata": {},
   "outputs": [],
   "source": [
    "# 1. \n",
    "count = 5\n",
    "fruit = \"apples\"\n",
    "\n",
    "print(\"I have \" + str(count) + \" \" + fruit + \".\")"
   ]
  },
  {
   "cell_type": "code",
   "execution_count": null,
   "metadata": {},
   "outputs": [],
   "source": [
    "# 1. Zde navrhněte vaše vylepšení\n",
    "print(f\"I have {count} {fruit}.\")\n"
   ]
  },
  {
   "cell_type": "markdown",
   "metadata": {},
   "source": [
    "Jaké doporučení zde bylo podle vás porušeno v příkladu ? Klidně napište více:"
   ]
  },
  {
   "cell_type": "code",
   "execution_count": null,
   "metadata": {},
   "outputs": [],
   "source": [
    "# 2. \n",
    "numbers = [\"one\", \"two\", \"three\"]\n",
    "\n",
    "for value in range(len(numbers)):\n",
    "    print(value)"
   ]
  },
  {
   "cell_type": "code",
   "execution_count": null,
   "metadata": {},
   "outputs": [],
   "source": [
    "# 2. \n",
    "numbers = [\"one\", \"two\", \"three\"]\n",
    "\n",
    "for index in range(len(numbers)):\n",
    "    print(index)"
   ]
  },
  {
   "cell_type": "markdown",
   "metadata": {},
   "source": [
    "Jaké doporučení zde bylo podle vás porušeno v příkladu ? Klidně napište více:\n"
   ]
  },
  {
   "cell_type": "code",
   "execution_count": 8,
   "metadata": {},
   "outputs": [
    {
     "name": "stdout",
     "output_type": "stream",
     "text": [
      "0 one\n",
      "1 two\n",
      "2 three\n"
     ]
    }
   ],
   "source": [
    "# 3. \n",
    "numbers = [\"one\", \"two\", \"three\"]\n",
    "\n",
    "for value in range(len(numbers)):\n",
    "    print(f\"{value} {numbers[value]}\")"
   ]
  },
  {
   "cell_type": "code",
   "execution_count": 7,
   "metadata": {},
   "outputs": [
    {
     "name": "stdout",
     "output_type": "stream",
     "text": [
      "0 one\n",
      "1 two\n",
      "2 three\n"
     ]
    }
   ],
   "source": [
    "# 3. Zde navrhněte vaše vylepšení, nápověda: vygooglete enumerate funkci\n",
    "numbers = [\"one\", \"two\", \"three\"]\n",
    "\n",
    "for key, value in enumerate(numbers):\n",
    "    print(key, value)"
   ]
  },
  {
   "cell_type": "markdown",
   "metadata": {},
   "source": [
    "Jaké doporučení zde bylo podle vás porušeno v příkladu ? Klidně napište více:"
   ]
  },
  {
   "cell_type": "code",
   "execution_count": 1,
   "metadata": {},
   "outputs": [
    {
     "name": "stdout",
     "output_type": "stream",
     "text": [
      "jméno\n"
     ]
    }
   ],
   "source": [
    "# 4. \n",
    "words = {\"name\": \"jméno\", \"fruit\": \"ovoce\"}\n",
    "\n",
    "print(words[\"name\"])"
   ]
  },
  {
   "cell_type": "code",
   "execution_count": 2,
   "metadata": {},
   "outputs": [
    {
     "name": "stdout",
     "output_type": "stream",
     "text": [
      "jméno\n"
     ]
    }
   ],
   "source": [
    "# 4. Zde navrhněte vaše vylepšení, nápověda: vygooglete si metodu, která získa hodnotu ze slovníku\n",
    "words = {\"name\": \"jméno\", \"fruit\": \"ovoce\"}\n",
    "\n",
    "print(words.get('name'))"
   ]
  },
  {
   "cell_type": "markdown",
   "metadata": {},
   "source": [
    "Jaké doporučení zde bylo podle vás porušeno v příkladu ? Klidně napište více:"
   ]
  },
  {
   "cell_type": "code",
   "execution_count": null,
   "metadata": {},
   "outputs": [],
   "source": [
    "# 5.\n",
    "def sqrt(word):\n",
    "    word.upper()\n",
    "    \n",
    "from math import *\n",
    "    \n",
    "sqrt(\"test\")"
   ]
  },
  {
   "cell_type": "code",
   "execution_count": 4,
   "metadata": {},
   "outputs": [],
   "source": [
    "# 5. Zde navrhněte vaše vylepšení, nápověda: proč program vrátí chybu?\n",
    "def uppercase(word):\n",
    "    word.upper()\n",
    "    \n",
    "from math import *\n",
    "    \n",
    "uppercase(\"test\")"
   ]
  },
  {
   "cell_type": "markdown",
   "metadata": {},
   "source": [
    "Jaké doporučení zde bylo podle vás porušeno v příkladu ? Klidně napište více:"
   ]
  }
 ],
 "metadata": {
  "kernelspec": {
   "display_name": "Python 3.10.6 64-bit",
   "language": "python",
   "name": "python3"
  },
  "language_info": {
   "codemirror_mode": {
    "name": "ipython",
    "version": 3
   },
   "file_extension": ".py",
   "mimetype": "text/x-python",
   "name": "python",
   "nbconvert_exporter": "python",
   "pygments_lexer": "ipython3",
   "version": "3.10.6"
  },
  "orig_nbformat": 4,
  "vscode": {
   "interpreter": {
    "hash": "916dbcbb3f70747c44a77c7bcd40155683ae19c65e1c03b4aa3499c5328201f1"
   }
  }
 },
 "nbformat": 4,
 "nbformat_minor": 2
}
