{
 "cells": [
  {
   "cell_type": "markdown",
   "metadata": {},
   "source": [
    "https://peps.python.org/pep-0020/\n",
    "https://peps.python.org/pep-0008/"
   ]
  },
  {
   "cell_type": "code",
   "execution_count": null,
   "metadata": {},
   "outputs": [],
   "source": [
    "# 1. \n",
    "count = 5\n",
    "fruit = \"apples\"\n",
    "\n",
    "print(\"I have \" + str(count) + \" \" + fruit + \".\")"
   ]
  },
  {
   "cell_type": "code",
   "execution_count": null,
   "metadata": {},
   "outputs": [],
   "source": [
    "# 1. Zde navrhněte vaše vylepšení\n",
    "print(f\"i have  {str(count)} fruit.\")\n",
    "Beautiful is better than ugly. \n"
   ]
  },
  {
   "cell_type": "markdown",
   "metadata": {},
   "source": [
    "Jaké doporučení zde bylo podle vás porušeno v příkladu ? Klidně napište více:"
   ]
  },
  {
   "cell_type": "code",
   "execution_count": null,
   "metadata": {},
   "outputs": [],
   "source": [
    "# 2. \n",
    "numbers = [\"one\", \"two\", \"three\"]\n",
    "\n",
    "for value in range(len(numbers)):\n",
    "    print(value)"
   ]
  },
  {
   "cell_type": "code",
   "execution_count": null,
   "metadata": {},
   "outputs": [],
   "source": [
    "# 2.\n",
    "for index in range(len(numbers)):\n",
    "    print(index)\n",
    " Readability counts."
   ]
  },
  {
   "cell_type": "markdown",
   "metadata": {},
   "source": [
    "Jaké doporučení zde bylo podle vás porušeno v příkladu ? Klidně napište více:\n"
   ]
  },
  {
   "cell_type": "code",
   "execution_count": null,
   "metadata": {},
   "outputs": [],
   "source": [
    "# 3. \n",
    "numbers = [\"one\", \"two\", \"three\"]\n",
    "\n",
    "for value in range(len(numbers)):\n",
    "    print(f\"{value} {numbers[value]}\")"
   ]
  },
  {
   "cell_type": "code",
   "execution_count": null,
   "metadata": {},
   "outputs": [],
   "source": [
    "# 3. Zde navrhněte vaše vylepšení, nápověda: vygooglete enumerate funkci\n",
    "for value in (enumerate(numbers, 1)):\n",
    "    print(value)\n",
    "\n",
    "Simple is better than complex.\n",
    "Beautiful is better than ugly. \n"
   ]
  },
  {
   "cell_type": "markdown",
   "metadata": {},
   "source": [
    "Jaké doporučení zde bylo podle vás porušeno v příkladu ? Klidně napište více:"
   ]
  },
  {
   "cell_type": "code",
   "execution_count": null,
   "metadata": {},
   "outputs": [],
   "source": [
    "# 4. \n",
    "words = {\"name\": \"jméno\", \"fruit\": \"ovoce\"}\n",
    "\n",
    "print(words[\"name\"])"
   ]
  },
  {
   "cell_type": "code",
   "execution_count": null,
   "metadata": {},
   "outputs": [],
   "source": [
    "# 4. Zde navrhněte vaše vylepšení, nápověda: vygooglete si metodu, která získa hodnotu ze slovníku\n",
    "print(words.get(\"name\"))\n",
    "Readability counts.\n"
   ]
  },
  {
   "cell_type": "markdown",
   "metadata": {},
   "source": [
    "Jaké doporučení zde bylo podle vás porušeno v příkladu ? Klidně napište více:"
   ]
  },
  {
   "cell_type": "code",
   "execution_count": null,
   "metadata": {},
   "outputs": [],
   "source": [
    "# 5.\n",
    "def sqrt(word):\n",
    "    word.upper()\n",
    "    \n",
    "from math import *\n",
    "    \n",
    "sqrt(\"test\")"
   ]
  },
  {
   "cell_type": "code",
   "execution_count": null,
   "metadata": {},
   "outputs": [],
   "source": [
    "# 5. Zde navrhněte vaše vylepšení, nápověda: proč program vrátí chybu?\n",
    "def sqrt(word):\n",
    "    word.upper()\n",
    "    \n",
    "from math import pi\n",
    "    \n",
    "sqrt(\"test\")"
   ]
  },
  {
   "cell_type": "markdown",
   "metadata": {},
   "source": [
    "Jaké doporučení zde bylo podle vás porušeno v příkladu ? Klidně napište více:"
   ]
  }
 ],
 "metadata": {
  "kernelspec": {
   "display_name": "Python 3.10.8 64-bit",
   "language": "python",
   "name": "python3"
  },
  "language_info": {
   "codemirror_mode": {
    "name": "ipython",
    "version": 3
   },
   "file_extension": ".py",
   "mimetype": "text/x-python",
   "name": "python",
   "nbconvert_exporter": "python",
   "pygments_lexer": "ipython3",
   "version": "3.10.8"
  },
  "orig_nbformat": 4,
  "vscode": {
   "interpreter": {
    "hash": "6ef888e41b2dcc37ae80de0301c51e998172b445c6e5b7c6cf8fc3e0b77a5d1f"
   }
  }
 },
 "nbformat": 4,
 "nbformat_minor": 2
}
