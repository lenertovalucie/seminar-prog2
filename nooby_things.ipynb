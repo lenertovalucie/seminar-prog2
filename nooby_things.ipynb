{
 "cells": [
  {
   "cell_type": "markdown",
   "metadata": {},
   "source": [
    "https://peps.python.org/pep-0020/\n",
    "https://peps.python.org/pep-0008/"
   ]
  },
  {
   "cell_type": "code",
   "execution_count": null,
   "metadata": {},
   "outputs": [],
   "source": [
    "# 1. \n",
    "count = 5\n",
    "fruit = \"apples\"\n",
    "\n",
    "print(\"I have \" + str(count) + \" \" + fruit + \".\")"
   ]
  },
  {
   "cell_type": "code",
   "execution_count": null,
   "metadata": {},
   "outputs": [
    {
     "ename": "",
     "evalue": "",
     "output_type": "error",
     "traceback": [
      "\u001b[1;31mRunning cells with 'Python 3.8.3 32-bit' requires ipykernel package.\n",
      "\u001b[1;31mRun the following command to install 'ipykernel' into the Python environment. \n",
      "\u001b[1;31mCommand: 'c:/Users/ivo/AppData/Local/Programs/Python/Python38-32/python.exe -m pip install ipykernel -U --user --force-reinstall'"
     ]
    }
   ],
   "source": [
    "# 1. Zde navrhněte vaše vylepšení\n",
    "print(\"I have 5 apples.\")"
   ]
  },
  {
   "cell_type": "markdown",
   "metadata": {},
   "source": [
    "Jaké doporučení zde bylo podle vás porušeno v příkladu ? Klidně napište více:\n",
    "Explicit/implicit"
   ]
  },
  {
   "cell_type": "code",
   "execution_count": null,
   "metadata": {},
   "outputs": [],
   "source": [
    "# 2. \n",
    "numbers = [\"one\", \"two\", \"three\"]\n",
    "\n",
    "for value in range(len(numbers)):\n",
    "    print(value)"
   ]
  },
  {
   "cell_type": "code",
   "execution_count": 5,
   "metadata": {},
   "outputs": [
    {
     "name": "stdout",
     "output_type": "stream",
     "text": [
      "0\n",
      "1\n",
      "2\n"
     ]
    }
   ],
   "source": [
    "# 2.\n",
    "for value in range(3):\n",
    "    print(value)"
   ]
  },
  {
   "cell_type": "markdown",
   "metadata": {},
   "source": [
    "Jaké doporučení zde bylo podle vás porušeno v příkladu ? Klidně napište více:\n",
    "Simple better than complex"
   ]
  },
  {
   "cell_type": "code",
   "execution_count": 4,
   "metadata": {},
   "outputs": [
    {
     "name": "stdout",
     "output_type": "stream",
     "text": [
      "0 one\n",
      "1 two\n",
      "2 three\n"
     ]
    }
   ],
   "source": [
    "# 3. \n",
    "numbers = [\"one\", \"two\", \"three\"]\n",
    "\n",
    "for value in range(len(numbers)):\n",
    "    print(f\"{value} {numbers[value]}\")"
   ]
  },
  {
   "cell_type": "code",
   "execution_count": 3,
   "metadata": {},
   "outputs": [
    {
     "name": "stdout",
     "output_type": "stream",
     "text": [
      "0 one\n",
      "1 two\n",
      "2 three\n"
     ]
    }
   ],
   "source": [
    "# 3. Zde navrhněte vaše vylepšení, nápověda: vygooglete enumerate funkci\n",
    "numbers = [\"one\", \"two\", \"three\"]\n",
    "\n",
    "for i,j in enumerate(numbers):\n",
    "    print(i,j)"
   ]
  },
  {
   "cell_type": "markdown",
   "metadata": {},
   "source": [
    "Jaké doporučení zde bylo podle vás porušeno v příkladu ? Klidně napište více:"
   ]
  },
  {
   "cell_type": "code",
   "execution_count": null,
   "metadata": {},
   "outputs": [],
   "source": [
    "# 4. \n",
    "words = {\"name\": \"jméno\", \"fruit\": \"ovoce\"}\n",
    "\n",
    "print(words[\"name\"])"
   ]
  },
  {
   "cell_type": "code",
   "execution_count": 7,
   "metadata": {},
   "outputs": [
    {
     "name": "stdout",
     "output_type": "stream",
     "text": [
      "jméno\n"
     ]
    }
   ],
   "source": [
    "# 4. Zde navrhněte vaše vylepšení, nápověda: vygooglete si metodu, která získa hodnotu ze slovníku\n",
    "words = {\"name\": \"jméno\", \"fruit\": \"ovoce\"}\n",
    "print(words.get(\"name\"))"
   ]
  },
  {
   "cell_type": "markdown",
   "metadata": {},
   "source": [
    "Jaké doporučení zde bylo podle vás porušeno v příkladu ? Klidně napište více:\n",
    "readability"
   ]
  },
  {
   "cell_type": "code",
   "execution_count": null,
   "metadata": {},
   "outputs": [],
   "source": [
    "# 5.\n",
    "def sqrt(word):\n",
    "    word.upper()\n",
    "    \n",
    "from math import *\n",
    "    \n",
    "sqrt(\"test\")"
   ]
  },
  {
   "cell_type": "code",
   "execution_count": 3,
   "metadata": {},
   "outputs": [
    {
     "data": {
      "text/plain": [
       "'TEST'"
      ]
     },
     "execution_count": 3,
     "metadata": {},
     "output_type": "execute_result"
    }
   ],
   "source": [
    "# 5. Zde navrhněte vaše vylepšení, nápověda: proč program vrátí chybu?\n",
    "def upper_case(word):\n",
    "    return word.upper()\n",
    "from math import sqrt\n",
    "upper_case(\"test\")"
   ]
  },
  {
   "cell_type": "markdown",
   "metadata": {},
   "source": [
    "Jaké doporučení zde bylo podle vás porušeno v příkladu ? Klidně napište více:"
   ]
  }
 ],
 "metadata": {
  "kernelspec": {
   "display_name": "Python 3.10.7 64-bit",
   "language": "python",
   "name": "python3"
  },
  "language_info": {
   "codemirror_mode": {
    "name": "ipython",
    "version": 3
   },
   "file_extension": ".py",
   "mimetype": "text/x-python",
   "name": "python",
   "nbconvert_exporter": "python",
   "pygments_lexer": "ipython3",
   "version": "3.10.7"
  },
  "orig_nbformat": 4,
  "vscode": {
   "interpreter": {
    "hash": "65334091fd8d48f9bbf3d4845ec756849443f02a18b1f99eb708fa7768c42a68"
   }
  }
 },
 "nbformat": 4,
 "nbformat_minor": 2
}
