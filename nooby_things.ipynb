{
 "cells": [
  {
   "cell_type": "markdown",
   "metadata": {},
   "source": [
    "https://peps.python.org/pep-0020/\n",
    "https://peps.python.org/pep-0008/"
   ]
  },
  {
   "cell_type": "code",
   "execution_count": 4,
   "metadata": {},
   "outputs": [
    {
     "name": "stdout",
     "output_type": "stream",
     "text": [
      "I have 5 apples.\n"
     ]
    }
   ],
   "source": [
    "# 1. \n",
    "count = 5\n",
    "fruit = \"apples\"\n",
    "\n",
    "print(\"I have \" + str(count) + \" \" + fruit + \".\")"
   ]
  },
  {
   "cell_type": "code",
   "execution_count": 18,
   "metadata": {},
   "outputs": [
    {
     "name": "stdout",
     "output_type": "stream",
     "text": [
      "I have 5 apples\n"
     ]
    }
   ],
   "source": [
    "count=5\n",
    "fruit='apples'\n",
    "print(f\"I have {count} {fruit}\")\n"
   ]
  },
  {
   "cell_type": "markdown",
   "metadata": {},
   "source": [
    "Jaké doporučení zde bylo podle vás porušeno v příkladu ? Klidně napište více:"
   ]
  },
  {
   "cell_type": "code",
   "execution_count": 33,
   "metadata": {},
   "outputs": [
    {
     "name": "stdout",
     "output_type": "stream",
     "text": [
      "0\n",
      "1\n",
      "2\n"
     ]
    }
   ],
   "source": [
    "# 2. \n",
    "numbers = [\"one\", \"two\", \"three\"]\n",
    "\n",
    "for value in range(len(numbers)):\n",
    "    print(value)"
   ]
  },
  {
   "cell_type": "code",
   "execution_count": null,
   "metadata": {},
   "outputs": [],
   "source": [
    "# 2. \n",
    "numbers = [\"one\", \"two\", \"three\"]\n",
    "\n",
    "for value in numbers:\n",
    "    print(numbers.index(value))"
   ]
  },
  {
   "cell_type": "markdown",
   "metadata": {},
   "source": [
    "Jaké doporučení zde bylo podle vás porušeno v příkladu ? Klidně napište více:\n"
   ]
  },
  {
   "cell_type": "code",
   "execution_count": null,
   "metadata": {},
   "outputs": [],
   "source": [
    "# 3. \n",
    "numbers = [\"one\", \"two\", \"three\"]\n",
    "\n",
    "for value in range(len(numbers)):\n",
    "    print(f\"{value} {numbers[value]}\")"
   ]
  },
  {
   "cell_type": "code",
   "execution_count": null,
   "metadata": {},
   "outputs": [],
   "source": [
    "# 3. Zde navrhněte vaše vylepšení, nápověda: vygooglete enumerate funkci"
   ]
  },
  {
   "cell_type": "markdown",
   "metadata": {},
   "source": [
    "Jaké doporučení zde bylo podle vás porušeno v příkladu ? Klidně napište více:"
   ]
  },
  {
   "cell_type": "code",
   "execution_count": null,
   "metadata": {},
   "outputs": [],
   "source": [
    "# 4. \n",
    "words = {\"name\": \"jméno\", \"fruit\": \"ovoce\"}\n",
    "\n",
    "print(words[\"name\"])"
   ]
  },
  {
   "cell_type": "code",
   "execution_count": null,
   "metadata": {},
   "outputs": [],
   "source": [
    "# 4. Zde navrhněte vaše vylepšení, nápověda: vygooglete si metodu, která získa hodnotu ze slovníku"
   ]
  },
  {
   "cell_type": "markdown",
   "metadata": {},
   "source": [
    "Jaké doporučení zde bylo podle vás porušeno v příkladu ? Klidně napište více:"
   ]
  },
  {
   "cell_type": "code",
   "execution_count": null,
   "metadata": {},
   "outputs": [],
   "source": [
    "# 5.\n",
    "def sqrt(word):\n",
    "    word.upper()\n",
    "    \n",
    "from math import *\n",
    "    \n",
    "sqrt(\"test\")"
   ]
  },
  {
   "cell_type": "code",
   "execution_count": null,
   "metadata": {},
   "outputs": [],
   "source": [
    "# 5. Zde navrhněte vaše vylepšení, nápověda: proč program vrátí chybu?"
   ]
  },
  {
   "cell_type": "markdown",
   "metadata": {},
   "source": [
    "Jaké doporučení zde bylo podle vás porušeno v příkladu ? Klidně napište více:"
   ]
  }
 ],
 "metadata": {
  "kernelspec": {
   "display_name": "Python 3.10.6 64-bit",
   "language": "python",
   "name": "python3"
  },
  "language_info": {
   "codemirror_mode": {
    "name": "ipython",
    "version": 3
   },
   "file_extension": ".py",
   "mimetype": "text/x-python",
   "name": "python",
   "nbconvert_exporter": "python",
   "pygments_lexer": "ipython3",
   "version": "3.10.6"
  },
  "orig_nbformat": 4,
  "vscode": {
   "interpreter": {
    "hash": "c592324040ddede769fbdbbb10c75ad7b29036c6d6a9e1b7e2239bd411f35992"
   }
  }
 },
 "nbformat": 4,
 "nbformat_minor": 2
}
